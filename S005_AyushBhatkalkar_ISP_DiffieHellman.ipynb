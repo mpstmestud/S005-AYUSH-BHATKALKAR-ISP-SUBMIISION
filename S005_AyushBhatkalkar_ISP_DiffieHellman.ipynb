{
  "nbformat": 4,
  "nbformat_minor": 0,
  "metadata": {
    "colab": {
      "provenance": []
    },
    "kernelspec": {
      "name": "python3",
      "display_name": "Python 3"
    },
    "language_info": {
      "name": "python"
    }
  },
  "cells": [
    {
      "cell_type": "code",
      "execution_count": 7,
      "metadata": {
        "colab": {
          "base_uri": "https://localhost:8080/"
        },
        "id": "5-9m9XtLGuUa",
        "outputId": "27c82645-4c33-421e-eb61-1f9ac84a4ebb"
      },
      "outputs": [
        {
          "name": "stdout",
          "output_type": "stream",
          "text": [
            "Enter the prime number to be considered:17\n",
            "Both must agree with single primitive root to use\n",
            "Enter the primitve root:5\n"
          ]
        }
      ],
      "source": [
        "prime=int((input(\"Enter the prime number to be considered:\")))\n",
        "print('Both must agree with single primitive root to use')\n",
        "root=int(input('Enter the primitve root:'))"
      ]
    },
    {
      "cell_type": "code",
      "source": [
        "alicesecret=int(input(\"Enter a secret number for Party1:\"))\n",
        "bobsecret=int(input(\"Enter a secret number for party2:\"))"
      ],
      "metadata": {
        "colab": {
          "base_uri": "https://localhost:8080/"
        },
        "id": "RjrrCmo6G33v",
        "outputId": "20c4d7cb-cf17-4d52-b609-6d26bca14113"
      },
      "execution_count": 8,
      "outputs": [
        {
          "name": "stdout",
          "output_type": "stream",
          "text": [
            "Enter a secret number for Party1:4\n",
            "Enter a secret number for party2:6\n"
          ]
        }
      ]
    },
    {
      "cell_type": "code",
      "source": [
        "print(\"Partys public key ->A = root^allicesecre*mod(prime)\")\n",
        "alicepublic=(root**alicesecret)%prime\n",
        "print('Party1 public key is:',alicepublic,\"\\n\")\n",
        "#party2 public key B=(root^bobsecret)*mod(prime)\n",
        "print('party2 public key B=(root^bobsecret)*mod(prime))')\n",
        "bobpublic=(root**bobsecret)%prime\n",
        "print('Party2 public key is:',bobpublic,\"\\n\")"
      ],
      "metadata": {
        "colab": {
          "base_uri": "https://localhost:8080/"
        },
        "id": "6qUjTtBJHAFT",
        "outputId": "1f1bf365-de9f-4167-d330-0d0fba86f7d4"
      },
      "execution_count": 9,
      "outputs": [
        {
          "output_type": "stream",
          "name": "stdout",
          "text": [
            "Partys public key ->A = root^allicesecre*mod(prime)\n",
            "Party1 public key is: 13 \n",
            "\n",
            "party2 public key B=(root^bobsecret)*mod(prime))\n",
            "Party2 public key is: 2 \n",
            "\n"
          ]
        }
      ]
    },
    {
      "cell_type": "code",
      "source": [
        "alicekey=(bobpublic**alicesecret)%prime\n",
        "print(\"Party1 calculates the shared and results:\",alicekey,\"\\n\")"
      ],
      "metadata": {
        "colab": {
          "base_uri": "https://localhost:8080/"
        },
        "id": "mbFZO0ytHFQ1",
        "outputId": "866f0c48-961d-4ad4-fdd5-9775e615a240"
      },
      "execution_count": 10,
      "outputs": [
        {
          "output_type": "stream",
          "name": "stdout",
          "text": [
            "Party1 calculates the shared and results: 16 \n",
            "\n"
          ]
        }
      ]
    },
    {
      "cell_type": "code",
      "source": [
        "bobkey=(alicepublic**bobsecret)%prime\n",
        "print(\"Party2 calculates the shared and results:\",bobkey,\"\\n\")"
      ],
      "metadata": {
        "colab": {
          "base_uri": "https://localhost:8080/"
        },
        "id": "qq9lLT4aHHpq",
        "outputId": "cb2e0e3e-6dd9-46a8-a2c2-9657ea5e25a9"
      },
      "execution_count": 11,
      "outputs": [
        {
          "output_type": "stream",
          "name": "stdout",
          "text": [
            "Party2 calculates the shared and results: 16 \n",
            "\n"
          ]
        }
      ]
    }
  ]
}