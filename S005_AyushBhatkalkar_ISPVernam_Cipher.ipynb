{
  "nbformat": 4,
  "nbformat_minor": 0,
  "metadata": {
    "colab": {
      "provenance": [],
      "collapsed_sections": []
    },
    "kernelspec": {
      "name": "python3",
      "display_name": "Python 3"
    },
    "language_info": {
      "name": "python"
    }
  },
  "cells": [
    {
      "cell_type": "code",
      "execution_count": null,
      "metadata": {
        "colab": {
          "base_uri": "https://localhost:8080/"
        },
        "id": "ll2DBJLwl781",
        "outputId": "58b1511d-3cb5-4b96-fc04-03c709aae1df"
      },
      "outputs": [
        {
          "name": "stdout",
          "output_type": "stream",
          "text": [
            "Enter the message:malayalam\n",
            "Enter the one time pad:malayalam\n"
          ]
        }
      ],
      "source": [
        "#Vernam Cipher\n",
        "#Step 1- Getting inputs\n",
        "plain_text=input(\"Enter the message:\")\n",
        "key=input(\"Enter the one time pad:\")\n",
        "cipher_text=''"
      ]
    },
    {
      "cell_type": "code",
      "source": [
        "#Step 2- Data cleaning- Replace space with empty string without space and convert it into lower\n",
        "plain_text=plain_text.replace(\" \",\"\")\n",
        "key=key.replace(\" \",\"\")\n",
        "plain_text=plain_text.lower()\n",
        "key=key.lower()"
      ],
      "metadata": {
        "id": "d0mz7XBCm4Vi"
      },
      "execution_count": null,
      "outputs": []
    },
    {
      "cell_type": "code",
      "source": [
        "#Step 3- Checking if lengths are equal\n",
        "if len(plain_text)!=len(key):\n",
        "  print(\"Invalid!Length is not equal\")\n",
        "else:\n",
        "  print(\"Length is equal\")"
      ],
      "metadata": {
        "colab": {
          "base_uri": "https://localhost:8080/"
        },
        "id": "_0lrk_GknfjM",
        "outputId": "4f063ede-06a8-45b0-b074-2e30c3e8a05d"
      },
      "execution_count": null,
      "outputs": [
        {
          "output_type": "stream",
          "name": "stdout",
          "text": [
            "Length is equal\n"
          ]
        }
      ]
    },
    {
      "cell_type": "code",
      "source": [
        "#Logic\n",
        "cipher_text=\"\"\n",
        "#Iterating through the length\n",
        "for i in range(len(plain_text)):\n",
        "  k1=ord(plain_text[i])-97 #getting input ascii value for lowercase\n",
        "  k2=ord(key[i])-97        #getting key ascii value for lowercase\n",
        "  s=chr((k1+k2)%26+97)     #(k1+k2)%26 for lowercase\n",
        "  cipher_text+=s           #concatenate each output\n",
        "print(\"Encrypted message is:\", cipher_text)\n",
        "            "
      ],
      "metadata": {
        "colab": {
          "base_uri": "https://localhost:8080/"
        },
        "id": "l_Ml0eFpn85y",
        "outputId": "52ff9b5b-fc2a-4953-a440-95f94d88e718"
      },
      "execution_count": null,
      "outputs": [
        {
          "output_type": "stream",
          "name": "stdout",
          "text": [
            "Encrypted message is: yawawaway\n"
          ]
        }
      ]
    },
    {
      "cell_type": "markdown",
      "source": [
        "Vernam cipher encryption"
      ],
      "metadata": {
        "id": "CBUdm39Be2yO"
      }
    },
    {
      "cell_type": "code",
      "source": [
        "def vernam(plain_text,key):\n",
        "  cipher_text=''\n",
        "  plain_text=plain_text.replace(\" \",\"\")\n",
        "  key=key.replace(\" \",\"\")\n",
        "  plain_text=plain_text.lower()\n",
        "  key=key.lower()\n",
        "  if len(plain_text)!=len(key):\n",
        "    print(\"Invalid!Length is not equal\")\n",
        "  else:\n",
        "    print(\"Length is equal\")\n",
        "    cipher_text=\"\"\n",
        "    #Iterating through the length\n",
        "    for i in range(len(plain_text)):\n",
        "      k1=ord(plain_text[i])-97 #getting input ascii value for lowercase\n",
        "      k2=ord(key[i])-97        #getting key ascii value for lowercase\n",
        "      s=chr((k1+k2+26)%26+97)     #(k1+k2)%26 for lowercase\n",
        "      cipher_text+=s           #concatenate each output\n",
        "  print(\"Encrypted message is:\", cipher_text)\n",
        "plain_text=input(\"Enter the message:\")\n",
        "key=input(\"Enter the one time pad:\")\n",
        "vernam(plain_text,key)"
      ],
      "metadata": {
        "colab": {
          "base_uri": "https://localhost:8080/"
        },
        "id": "8AeIyKlgsWCU",
        "outputId": "993fc123-5ad5-494b-cca5-07548e449eba"
      },
      "execution_count": null,
      "outputs": [
        {
          "output_type": "stream",
          "name": "stdout",
          "text": [
            "Enter the message:Good morning\n",
            "Enter the one time pad:Quantum King\n",
            "Length is equal\n",
            "Encrypted message is: wioqfidxqam\n"
          ]
        }
      ]
    },
    {
      "cell_type": "markdown",
      "source": [
        "Vernam cipher decryption"
      ],
      "metadata": {
        "id": "6e_bnFXue88I"
      }
    },
    {
      "cell_type": "code",
      "source": [
        "# function to apply algo of vernam cipher\n",
        "def vernam(plain_text,key):\n",
        "\n",
        "    # convert into lower cases and remove spaces\n",
        "    \n",
        "    plain_text=plain_text.replace(\" \",\"\")\n",
        "    key=key.replace(\" \",\"\")\n",
        "    plain_text=plain_text.lower()\n",
        "    key=key.lower()\n",
        "    \n",
        "    # conditional statements\n",
        "    if(len(plain_text)!=len(key)):\n",
        "        print(\"Lengths are different\")\n",
        "        \n",
        "    else:\n",
        "        cipher_text=\"\"\n",
        "        # iterating through the length\n",
        "        for i in range(len(plain_text)):\n",
        "            k1=ord(plain_text[i])-97\n",
        "            k2=ord(key[i])-97\n",
        "            s=chr(((k1-k2))%26+97)\n",
        "            cipher_text+=s\n",
        "        print(\"Enrypted message is: \",cipher_text)\n",
        "\n",
        "\n",
        "plain_text=input(\"Enter the message: \")\n",
        "key=input(\"Enter the one time pad: \")\n",
        "vernam(plain_text,key)"
      ],
      "metadata": {
        "id": "7lE1x5Metxib",
        "colab": {
          "base_uri": "https://localhost:8080/"
        },
        "outputId": "d5f1cb9c-d44b-4bbe-d0dd-b355d1ef3325"
      },
      "execution_count": null,
      "outputs": [
        {
          "output_type": "stream",
          "name": "stdout",
          "text": [
            "Enter the message: h\n",
            "Enter the one time pad: h\n",
            "Enrypted message is:  a\n"
          ]
        }
      ]
    },
    {
      "cell_type": "code",
      "source": [],
      "metadata": {
        "id": "mPVRVE88e_ca"
      },
      "execution_count": null,
      "outputs": []
    }
  ]
}