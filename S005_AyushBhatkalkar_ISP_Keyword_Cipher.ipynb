{
  "nbformat": 4,
  "nbformat_minor": 0,
  "metadata": {
    "colab": {
      "provenance": [],
      "collapsed_sections": []
    },
    "kernelspec": {
      "name": "python3",
      "display_name": "Python 3"
    },
    "language_info": {
      "name": "python"
    }
  },
  "cells": [
    {
      "cell_type": "code",
      "source": [
        "message=\"Attack at dawn\"\n",
        "keyword=\"secret\"\n",
        "ciphertext=\"\""
      ],
      "metadata": {
        "id": "FRxkGAhur4CL"
      },
      "execution_count": null,
      "outputs": []
    },
    {
      "cell_type": "code",
      "source": [
        "#stored all upper case alphabets\n",
        "all_alphabets=[]\n",
        "for i in range(65,91):\n",
        "  all_alphabets.append(chr(i))\n",
        "\n",
        "print(all_alphabets)"
      ],
      "metadata": {
        "colab": {
          "base_uri": "https://localhost:8080/"
        },
        "id": "j_teJPZHibje",
        "outputId": "25ba73f2-f2ad-4563-ed39-bf1209bcbc52"
      },
      "execution_count": null,
      "outputs": [
        {
          "output_type": "stream",
          "name": "stdout",
          "text": [
            "['A', 'B', 'C', 'D', 'E', 'F', 'G', 'H', 'I', 'J', 'K', 'L', 'M', 'N', 'O', 'P', 'Q', 'R', 'S', 'T', 'U', 'V', 'W', 'X', 'Y', 'Z']\n"
          ]
        }
      ]
    },
    {
      "cell_type": "code",
      "source": [
        "msg=[]\n",
        "for i in message:\n",
        "  msg.append(i.upper())\n",
        "\n",
        "print(msg)"
      ],
      "metadata": {
        "colab": {
          "base_uri": "https://localhost:8080/"
        },
        "id": "lWD8KtUFsL86",
        "outputId": "093cefb4-c150-4ae2-b07e-75e77d5f42df"
      },
      "execution_count": null,
      "outputs": [
        {
          "output_type": "stream",
          "name": "stdout",
          "text": [
            "['A', 'T', 'T', 'A', 'C', 'K', ' ', 'A', 'T', ' ', 'D', 'A', 'W', 'N']\n"
          ]
        }
      ]
    },
    {
      "cell_type": "code",
      "source": [
        "keyword1=keyword.upper()"
      ],
      "metadata": {
        "id": "wkhKxdm_s21Q"
      },
      "execution_count": null,
      "outputs": []
    },
    {
      "cell_type": "code",
      "source": [
        "def duplicates(list):\n",
        "  key=[]\n",
        "  for i in list:\n",
        "    if i not in key:\n",
        "      key.append(i)\n",
        "  return key"
      ],
      "metadata": {
        "id": "04C4xZ1Stdsx"
      },
      "execution_count": null,
      "outputs": []
    },
    {
      "cell_type": "code",
      "source": [
        "keyword1=duplicates(keyword1)\n",
        "print(\"Keyword after removing duplicates:\",keyword1)\n",
        "\n",
        "encrypting=duplicates(keyword1+all_alphabets)\n",
        "print(\"Encrypting text is:\",encrypting)\n",
        "\n",
        "for i in encrypting:\n",
        "  if (i==' '):\n",
        "    encrypting.remove(' ')\n",
        "\n",
        "print(\"Enctyptig text is\",encrypting)"
      ],
      "metadata": {
        "colab": {
          "base_uri": "https://localhost:8080/"
        },
        "id": "tZKnMI3ltuOJ",
        "outputId": "292f2572-e2a3-45d6-8397-7d0d7ba50660"
      },
      "execution_count": null,
      "outputs": [
        {
          "output_type": "stream",
          "name": "stdout",
          "text": [
            "Keyword after removing duplicates: ['S', 'E', 'C', 'R', 'T']\n",
            "Encrypting text is: ['S', 'E', 'C', 'R', 'T', 'A', 'B', 'D', 'F', 'G', 'H', 'I', 'J', 'K', 'L', 'M', 'N', 'O', 'P', 'Q', 'U', 'V', 'W', 'X', 'Y', 'Z']\n",
            "Enctyptig text is ['S', 'E', 'C', 'R', 'T', 'A', 'B', 'D', 'F', 'G', 'H', 'I', 'J', 'K', 'L', 'M', 'N', 'O', 'P', 'Q', 'U', 'V', 'W', 'X', 'Y', 'Z']\n"
          ]
        }
      ]
    },
    {
      "cell_type": "code",
      "source": [
        "for i in range(len(msg)):\n",
        "  if (msg[i]!=' '):\n",
        "    ciphertext=ciphertext+encrypting[all_alphabets.index(msg[i])]\n",
        "  else:\n",
        "    ciphertext=ciphertext+' '"
      ],
      "metadata": {
        "id": "PYWmzAb6wOgT"
      },
      "execution_count": null,
      "outputs": []
    },
    {
      "cell_type": "code",
      "source": [
        "print(\"Message after encryption:\",ciphertext)"
      ],
      "metadata": {
        "colab": {
          "base_uri": "https://localhost:8080/"
        },
        "id": "5slO4-MQyjKr",
        "outputId": "e932d52a-1403-43cc-a395-70db795bb624"
      },
      "execution_count": null,
      "outputs": [
        {
          "output_type": "stream",
          "name": "stdout",
          "text": [
            "Message after encryption: SQQSCH SQ RSWK\n"
          ]
        }
      ]
    },
    {
      "cell_type": "markdown",
      "source": [
        "Keyword cipher encryption"
      ],
      "metadata": {
        "id": "KsRoNHQeffR9"
      }
    },
    {
      "cell_type": "code",
      "source": [
        "def keyword_encrypt(keyword,message):\n",
        "  # Python program for encoding the string\n",
        "  ciphertext = \"\"\n",
        "\n",
        "  # stores all upper case alphabets\n",
        "  all_alphabets = []\n",
        "  for i in range(97,123):\n",
        "    all_alphabets.append(chr(i).upper())\n",
        "\n",
        "  # converts message to list\n",
        "  msg = []\n",
        "  for i in message:\n",
        "      msg.append(i.upper())\n",
        "      \n",
        "  #msg = [x.upper() for x in message]\n",
        "\n",
        "  keyword1 = keyword.upper()\n",
        "\n",
        "  keyword1 = duplicates(keyword1)\n",
        "  #print(\"keyword after removing duplicate\",keyword1)\n",
        "\n",
        "  # Stores the encryption list\n",
        "  encrypting = duplicates(keyword1+all_alphabets)\n",
        "  #print(\"Enctyptig text is\",encrypting)\n",
        "\n",
        "  #removes spaces from the encryption list\n",
        "  for i in encrypting:\n",
        "    if(i == ' '):\n",
        "      encrypting.remove(' ')\n",
        "\n",
        "  # maps each element of the message to the encryption list and stores it in ciphertext\n",
        "  for i in range(len(msg)):\n",
        "    if(msg[i] != ' '):\n",
        "      ciphertext = ciphertext+encrypting[all_alphabets.index(msg[i])]\n",
        "    else:\n",
        "      ciphertext = ciphertext+' '\n",
        "\n",
        "  return ciphertext"
      ],
      "metadata": {
        "id": "OiBGXFjuzJx4"
      },
      "execution_count": null,
      "outputs": []
    },
    {
      "cell_type": "markdown",
      "source": [
        "Decryption"
      ],
      "metadata": {
        "id": "JJhhLJAmUF26"
      }
    },
    {
      "cell_type": "code",
      "source": [
        "message = \"\"\n",
        "keyword = \"Star War\"\n",
        "ciphertext = \"SPPSAG SP RSVJ\""
      ],
      "metadata": {
        "id": "YHjoqZWlUAm7"
      },
      "execution_count": null,
      "outputs": []
    },
    {
      "cell_type": "code",
      "source": [
        "def duplicates(list):\n",
        "\tkey = []\n",
        "\tfor i in list:\n",
        "\t\tif i not in key:\n",
        "\t\t\tkey.append(i)\n",
        "\n",
        "\treturn key"
      ],
      "metadata": {
        "id": "18ejQhIwUEwz"
      },
      "execution_count": null,
      "outputs": []
    },
    {
      "cell_type": "code",
      "source": [
        "print(\"Keyword : \", keyword)\n",
        "print(\"Ciphered Text : \", ciphertext)\n",
        "print(\"Message before Ciphering : \", keyword_decrypt(keyword,message))"
      ],
      "metadata": {
        "colab": {
          "base_uri": "https://localhost:8080/"
        },
        "id": "LeAdPZe6XPz1",
        "outputId": "f0c3290e-4d17-486f-acab-3734da58cbb2"
      },
      "execution_count": null,
      "outputs": [
        {
          "output_type": "stream",
          "name": "stdout",
          "text": [
            "Keyword :  Star War\n",
            "Ciphered Text :  SPPSAG SP RSVJ\n",
            "Message before Ciphering :  ATTACK AT DAWN\n"
          ]
        }
      ]
    },
    {
      "cell_type": "markdown",
      "source": [
        "Keyword cipher decryption"
      ],
      "metadata": {
        "id": "aCa-AExqfogs"
      }
    },
    {
      "cell_type": "code",
      "source": [
        "def keyword_decrypt(keyword,message):\n",
        "  # Python program for decoding the string\n",
        "  message = \"\"\n",
        "\n",
        "  # stores all upper case alphabets\n",
        "  all_alphabets = []\n",
        "  for i in range(65,91):\n",
        "    all_alphabets.append(chr(i))\n",
        " \n",
        "\n",
        "  # converts message to list\n",
        "  ct = []\n",
        "  for i in ciphertext:\n",
        "      ct.append(i.upper())\n",
        "      \n",
        "  #msg = [x.upper() for x in message]\n",
        "\n",
        "  keyword1 = keyword.upper()\n",
        "\n",
        "  keyword1 = duplicates(keyword1)\n",
        " # print(\"keyword after removing duplicate\",keyword1)\n",
        "\n",
        "  # Stores the encryption list\n",
        "  encrypting = duplicates(keyword1+all_alphabets)\n",
        "  #print(\"Enctyptig text is\",encrypting)\n",
        "\n",
        "  #removes spaces from the encryption list\n",
        "  for i in encrypting:\n",
        "    if(i == ' '):\n",
        "      encrypting.remove(' ')\n",
        "\n",
        "  # maps each element of the message to the encryption list and stores it in ciphertext\n",
        "  for i in range(len(ct)):\n",
        "    if(ct[i] != ' '):\n",
        "      message = message+all_alphabets[encrypting.index(ct[i])]\n",
        "    else:\n",
        "      message = message+' '\n",
        "\n",
        "  return message"
      ],
      "metadata": {
        "id": "rkEKSHBXXIoQ"
      },
      "execution_count": null,
      "outputs": []
    },
    {
      "cell_type": "code",
      "source": [],
      "metadata": {
        "id": "bKdEenSHXRSC"
      },
      "execution_count": null,
      "outputs": []
    }
  ]
}