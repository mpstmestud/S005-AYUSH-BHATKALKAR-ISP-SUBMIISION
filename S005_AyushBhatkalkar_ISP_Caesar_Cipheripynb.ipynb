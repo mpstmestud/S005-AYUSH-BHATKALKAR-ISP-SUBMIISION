{
  "nbformat": 4,
  "nbformat_minor": 0,
  "metadata": {
    "colab": {
      "provenance": [],
      "collapsed_sections": []
    },
    "kernelspec": {
      "name": "python3",
      "display_name": "Python 3"
    },
    "language_info": {
      "name": "python"
    }
  },
  "cells": [
    {
      "cell_type": "code",
      "source": [
        "text=str(input(\"Enter the word:\"))\n",
        "shift=int(input(\"Enter the key:\"))\n",
        "result=''\n",
        "#Step 2-Traverse\n",
        "for i in range(len(text)):\n",
        "  char=text[i]\n",
        "  print(char)\n",
        "\n",
        "#Step 3- shift as per input\n",
        "for i in range(len(text)):\n",
        "  charsult+chr=text[i]\n",
        "  print(\"Original char\",char)\n",
        "  #result=re\n",
        "\n"
      ],
      "metadata": {
        "colab": {
          "base_uri": "https://localhost:8080/"
        },
        "id": "Mv84Ll2OebdE",
        "outputId": "a2884204-5936-417b-e474-19c450e3356f"
      },
      "execution_count": null,
      "outputs": [
        {
          "output_type": "stream",
          "name": "stdout",
          "text": [
            "Enter the word:a\n",
            "Enter the key:3\n",
            "a\n",
            "Original char a\n",
            "97\n",
            "a\n"
          ]
        }
      ]
    },
    {
      "cell_type": "code",
      "source": [
        "#ord()- finds ASCII value\n",
        "#chr()- finds character from ASCII value\n",
        "value=ord(\"a\")\n",
        "print(value)\n",
        "print(chr(value))"
      ],
      "metadata": {
        "id": "R9FzizjjlVvF"
      },
      "execution_count": null,
      "outputs": []
    },
    {
      "cell_type": "markdown",
      "source": [
        "Caesar cipher encryption"
      ],
      "metadata": {
        "id": "LjkfsaoBeymM"
      }
    },
    {
      "cell_type": "code",
      "source": [
        "def encrypt(text,s):\n",
        "  result = \"\"\n",
        "  # traverse text\n",
        "  print(s)\n",
        "  for i in range(len(text)):\n",
        "    char = text[i]\n",
        "\n",
        "    # Encrypt uppercase characters\n",
        "    if (char.isupper()):\n",
        "      result += chr((ord(char) + s-65) % 26 + 65)\n",
        "\n",
        "    # Encrypt lowercase characters\n",
        "    else:\n",
        "      result += chr((ord(char) + s - 97) % 26 + 97)\n",
        "    \n",
        "  return result\n",
        "\n",
        "#check the above function\n",
        "text=str(input(\"enter the word:\"))\n",
        "shift=int(input(\"Enter the key: \"))\n",
        "# print (\"Text : \" + text)\n",
        "# print (\"Shift : \" + str(s))\n",
        "print (\"Cipher: \" + encrypt(text,shift))"
      ],
      "metadata": {
        "id": "L_OQbAISlV5E",
        "colab": {
          "base_uri": "https://localhost:8080/"
        },
        "outputId": "c4e317f7-21d0-42a4-d53b-be3ef527de65"
      },
      "execution_count": null,
      "outputs": [
        {
          "output_type": "stream",
          "name": "stdout",
          "text": [
            "enter the word:abc\n",
            "Enter the key: 3\n",
            "3\n",
            "Cipher: def\n"
          ]
        }
      ]
    },
    {
      "cell_type": "markdown",
      "source": [
        "Caesar cipher decryption"
      ],
      "metadata": {
        "id": "mQtKOegKfPr9"
      }
    },
    {
      "cell_type": "code",
      "source": [
        "def decrypt(text,s):\n",
        "\n",
        "\n",
        "  # Cipher(n) = De-cipher(26-n)\n",
        "  s=26-s \n",
        "  print(s)    \n",
        "  result=\"\" \n",
        "  for i in range(len(text)):\n",
        "      char=text[i]\n",
        "      if(char.isupper()):  \n",
        "          result=result+chr((ord(char)+s-65)%26+65)\n",
        "      else:\n",
        "          result=result+chr((ord(char)+s-97)%26+97)\n",
        "  return result\n",
        "\n",
        "\n",
        "word=str(input(\"enter the word:\"))\n",
        "d=int(input(\"Enter the key: \"))\n",
        "\n",
        "print(\"Encoded word in Caeser cipher is: \",decrypt(word,d))\n"
      ],
      "metadata": {
        "colab": {
          "base_uri": "https://localhost:8080/"
        },
        "id": "FnegOVqQfRMh",
        "outputId": "f5112fdf-a6c9-47cc-c8bf-68009169b384"
      },
      "execution_count": null,
      "outputs": [
        {
          "output_type": "stream",
          "name": "stdout",
          "text": [
            "enter the word:def\n",
            "Enter the key: 3\n",
            "23\n",
            "Encoded word in Caeser cipher is:  abc\n"
          ]
        }
      ]
    },
    {
      "cell_type": "code",
      "source": [],
      "metadata": {
        "id": "AhJbxriyfR0G"
      },
      "execution_count": null,
      "outputs": []
    }
  ]
}