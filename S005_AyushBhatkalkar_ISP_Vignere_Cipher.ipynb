{
  "nbformat": 4,
  "nbformat_minor": 0,
  "metadata": {
    "colab": {
      "provenance": []
    },
    "kernelspec": {
      "name": "python3",
      "display_name": "Python 3"
    },
    "language_info": {
      "name": "python"
    }
  },
  "cells": [
    {
      "cell_type": "code",
      "execution_count": null,
      "metadata": {
        "id": "O-lZRSMPjt4W"
      },
      "outputs": [],
      "source": [
        "#Vigenere Cipher\n",
        "string=\"GEEKSFORGEEKS\"\n",
        "key=\"sidharth\""
      ]
    },
    {
      "cell_type": "code",
      "source": [
        "def generatekey(string,key):\n",
        "  key=list(key)\n",
        "  if len(string)==len(key):\n",
        "    return key\n",
        "  else:\n",
        "    for i in range(len(string)-len(key)):\n",
        "      key.append(key[i%len(key)])\n",
        "  print(key)\n",
        "  new_key=(\"\".join(key))\n",
        "  return new_key\n",
        "  print(new_key)\n",
        "new_key=generatekey(string,key)"
      ],
      "metadata": {
        "colab": {
          "base_uri": "https://localhost:8080/"
        },
        "id": "x6WR1zX6pQe2",
        "outputId": "b60d83fc-80a2-4593-f9ef-e2fecab51350"
      },
      "execution_count": null,
      "outputs": [
        {
          "output_type": "stream",
          "name": "stdout",
          "text": [
            "['s', 'i', 'd', 'h', 'a', 'r', 't', 'h', 's', 'i', 'd', 'h', 'a']\n"
          ]
        }
      ]
    },
    {
      "cell_type": "markdown",
      "source": [
        "Vignere Cipher Encryption"
      ],
      "metadata": {
        "id": "2HMETynqoLnm"
      }
    },
    {
      "cell_type": "code",
      "source": [
        "def encrypt_ciphertext(string,key):\n",
        "  cipher_text=[]\n",
        "  for i in range(len(string)):\n",
        "    x=((ord(string[i])+ord(key[i]))%26)+ord('A')\n",
        "    cipher_text.append(chr(x))\n",
        "  return(\"\".join(cipher_text))\n",
        "\n",
        "cipher_text=encrypt_ciphertext(string,new_key)\n",
        "print(cipher_text)"
      ],
      "metadata": {
        "colab": {
          "base_uri": "https://localhost:8080/"
        },
        "id": "yxdyotQeqLe_",
        "outputId": "6395ea97-f59a-4969-98c6-b0763cd7be3b"
      },
      "execution_count": null,
      "outputs": [
        {
          "output_type": "stream",
          "name": "stdout",
          "text": [
            "HLYZWSRIGFLEH\n"
          ]
        }
      ]
    },
    {
      "cell_type": "code",
      "source": [
        "generatekey(string,key)\n",
        "encrypt_ciphertext(string,new_key)"
      ],
      "metadata": {
        "colab": {
          "base_uri": "https://localhost:8080/",
          "height": 53
        },
        "id": "kCJEmYqwq-IG",
        "outputId": "88da92f8-6f23-4819-91f3-0ec06514c71d"
      },
      "execution_count": null,
      "outputs": [
        {
          "output_type": "stream",
          "name": "stdout",
          "text": [
            "['S', 'I', 'D', 'H', 'A', 'R', 'T', 'H', 'S', 'I', 'D', 'H', 'A']\n"
          ]
        },
        {
          "output_type": "execute_result",
          "data": {
            "text/plain": [
              "'YMHRSWHYYMHRS'"
            ],
            "application/vnd.google.colaboratory.intrinsic+json": {
              "type": "string"
            }
          },
          "metadata": {},
          "execution_count": 65
        }
      ]
    },
    {
      "cell_type": "markdown",
      "source": [
        "Vignere Cipher Decryption"
      ],
      "metadata": {
        "id": "lq2ecjpeoSdU"
      }
    },
    {
      "cell_type": "code",
      "source": [
        "def decrypt_originaltext(ciphertext,key):\n",
        "  origtext=[]\n",
        "  for i in range(len(ciphertext)):\n",
        "    x=((ord(ciphertext[i])-ord(key[i]))%26)+ord('A')\n",
        "    origtext.append(chr(x))\n",
        "  return(\"\".join(origtext))\n",
        "decrypt_originaltext(cipher_text,new_key)"
      ],
      "metadata": {
        "colab": {
          "base_uri": "https://localhost:8080/",
          "height": 35
        },
        "id": "uxn_ruUE2C_6",
        "outputId": "f85542fa-d72b-4232-b178-1285771d5ba2"
      },
      "execution_count": null,
      "outputs": [
        {
          "output_type": "execute_result",
          "data": {
            "text/plain": [
              "'GEEKSFORGEEKS'"
            ],
            "application/vnd.google.colaboratory.intrinsic+json": {
              "type": "string"
            }
          },
          "metadata": {},
          "execution_count": 76
        }
      ]
    },
    {
      "cell_type": "code",
      "source": [],
      "metadata": {
        "id": "qnsRTt7y2o-C"
      },
      "execution_count": null,
      "outputs": []
    }
  ]
}